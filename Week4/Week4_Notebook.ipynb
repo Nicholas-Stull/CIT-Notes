{
 "cells": [
  {
   "cell_type": "code",
   "execution_count": 1,
   "metadata": {},
   "outputs": [
    {
     "name": "stdout",
     "output_type": "stream",
     "text": [
      "Course title:  --ip=127.0.0.1\n",
      "Couse number:  --stdin=9003\n",
      "Instructor:  --control=9001\n"
     ]
    }
   ],
   "source": [
    "import sys\n",
    "print(\"Course title: \", sys.argv[1])\n",
    "print(\"Couse number: \", sys.argv[2])\n",
    "print(\"Instructor: \", sys.argv[3])\n"
   ]
  },
  {
   "cell_type": "code",
   "execution_count": null,
   "metadata": {},
   "outputs": [],
   "source": []
  }
 ],
 "metadata": {
  "kernelspec": {
   "display_name": "Python 3",
   "language": "python",
   "name": "python3"
  },
  "language_info": {
   "codemirror_mode": {
    "name": "ipython",
    "version": 3
   },
   "file_extension": ".py",
   "mimetype": "text/x-python",
   "name": "python",
   "nbconvert_exporter": "python",
   "pygments_lexer": "ipython3",
   "version": "3.11.1 (tags/v3.11.1:a7a450f, Dec  6 2022, 19:58:39) [MSC v.1934 64 bit (AMD64)]"
  },
  "orig_nbformat": 4,
  "vscode": {
   "interpreter": {
    "hash": "bd302b0bf7607ef858b0b60d817d0cdff726ce2e302705e5f11f097fbdec3ff2"
   }
  }
 },
 "nbformat": 4,
 "nbformat_minor": 2
}
