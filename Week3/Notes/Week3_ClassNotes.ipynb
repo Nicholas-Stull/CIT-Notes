{
 "cells": [
  {
   "cell_type": "code",
   "execution_count": null,
   "metadata": {},
   "outputs": [],
   "source": []
  }
 ],
 "metadata": {
  "kernelspec": {
   "display_name": "Python 3",
   "language": "python",
   "name": "python3"
  },
  "language_info": {
   "name": "python",
   "version": "3.11.1"
  },
  "orig_nbformat": 4,
  "vscode": {
   "interpreter": {
    "hash": "bd302b0bf7607ef858b0b60d817d0cdff726ce2e302705e5f11f097fbdec3ff2"
   }
  }
 },
 "nbformat": 4,
 "nbformat_minor": 2
}
